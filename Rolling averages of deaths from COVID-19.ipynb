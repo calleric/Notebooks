{
 "cells": [
  {
   "cell_type": "markdown",
   "id": "loving-haven",
   "metadata": {},
   "source": [
    "# Interactive chart using ipywidgets\n",
    "\n",
    "\n",
    "Covid data from Johns Hopkins data repository. Using [ipywidgets](https://ipywidgets.readthedocs.io/en/stable) for interactive use.\n",
    "* Display the rolling average for those countries with the highest number of deaths \n",
    "    * Change the number of days to set the rolling average (slider from 1 to 10)\n",
    "    * Change the number of recent days to view (dropdown selection)\n",
    "\n"
   ]
  },
  {
   "cell_type": "code",
   "execution_count": 2,
   "id": "military-destination",
   "metadata": {},
   "outputs": [],
   "source": [
    "# import libraries\n",
    "%matplotlib widget\n",
    "import ipywidgets as widgets\n",
    "import numpy as np\n",
    "import pandas as pd\n",
    "import matplotlib.pyplot as plt"
   ]
  },
  {
   "cell_type": "markdown",
   "id": "elementary-essay",
   "metadata": {},
   "source": [
    "# Load data for Deaths from COVID-19.\n",
    "\n",
    "Load data into Pandas dataframes directly from Johns Hopkins data repository.\n",
    "\n"
   ]
  },
  {
   "cell_type": "code",
   "execution_count": 3,
   "id": "fantastic-judgment",
   "metadata": {},
   "outputs": [
    {
     "name": "stdout",
     "output_type": "stream",
     "text": [
      "Shape of deaths = (274, 456)\n"
     ]
    }
   ],
   "source": [
    "# Number of Death Cases - Global: time series data for deaths\n",
    "deaths_path = 'https://raw.githubusercontent.com/CSSEGISandData/COVID-19/master/csse_covid_19_data/csse_covid_19_time_series/time_series_covid19_deaths_global.csv'\n",
    "deaths_df = pd.read_csv(deaths_path)\n",
    "\n",
    "print(f\"Shape of deaths = {deaths_df.shape}\")"
   ]
  },
  {
   "cell_type": "code",
   "execution_count": 4,
   "id": "pharmaceutical-raise",
   "metadata": {},
   "outputs": [],
   "source": [
    "def clean_covid_data(df):\n",
    "    # 1. Drop unwanted columns\n",
    "    df.drop([\"Province/State\", \"Lat\", \"Long\"], axis=1, inplace=True)\n",
    "\n",
    "    # 2. Group by Country\n",
    "    df = df.groupby(\"Country/Region\").sum()\n",
    "\n",
    "    # 3. Convert column headings to datetime\n",
    "    df.columns = pd.to_datetime(df.columns)\n",
    "\n",
    "    # 4. Remove the column name\n",
    "    df.rename_axis(None, axis=0, inplace=True)\n",
    "\n",
    "    return df"
   ]
  },
  {
   "cell_type": "code",
   "execution_count": 5,
   "id": "published-execution",
   "metadata": {},
   "outputs": [],
   "source": [
    "clean_deaths_df = clean_covid_data(deaths_df)"
   ]
  },
  {
   "cell_type": "code",
   "execution_count": 6,
   "id": "executive-profile",
   "metadata": {},
   "outputs": [],
   "source": [
    "daily_deaths_df = clean_deaths_df.diff(axis=1)"
   ]
  },
  {
   "cell_type": "markdown",
   "id": "dirty-injury",
   "metadata": {},
   "source": [
    "---"
   ]
  },
  {
   "cell_type": "code",
   "execution_count": 7,
   "id": "ceramic-authorization",
   "metadata": {
    "scrolled": false
   },
   "outputs": [
    {
     "data": {
      "application/vnd.jupyter.widget-view+json": {
       "model_id": "a056813ff1914c17828efe761b93c7b9",
       "version_major": 2,
       "version_minor": 0
      },
      "text/plain": [
       "average_deaths(children=(HBox(children=(VBox(children=(Label(value='Rolling Average Days: '), Label(value='Rec…"
      ]
     },
     "metadata": {},
     "output_type": "display_data"
    }
   ],
   "source": [
    "def make_box_layout():\n",
    "    return widgets.Layout(\n",
    "        border=\"solid 1px black\", margin=\"0px 10px 10px 0px\", padding=\"5px 5px 5px 5px\"\n",
    "    )\n",
    "\n",
    "\n",
    "class average_deaths(widgets.VBox):\n",
    "    df = None\n",
    "    \n",
    "    def __init__(self, df):\n",
    "        super().__init__()\n",
    "        output = widgets.Output()\n",
    "        self.df = df\n",
    "        self.rolling_days = 7\n",
    "        self.recent_days = 100\n",
    "\n",
    "        with output:\n",
    "            self.fig, self.ax = plt.subplots(\n",
    "                figsize=(9, 5), facecolor=plt.cm.Blues(0.2)\n",
    "            )\n",
    "            self.fig.suptitle(\n",
    "                \"Deaths from COVID-19\", fontsize=\"xx-large\", fontweight=\"bold\"\n",
    "            )\n",
    "            self.plot_axis()\n",
    "            self.fig.autofmt_xdate()\n",
    "            plt.tight_layout()\n",
    "            self.fig.canvas.toolbar_position = \"bottom\"\n",
    "\n",
    "        # define widgets\n",
    "        int_slider = widgets.IntSlider(\n",
    "            value=self.rolling_days,\n",
    "            min=1,\n",
    "            max=10,\n",
    "            step=1,\n",
    "        )\n",
    "        recent_dropdown = widgets.Dropdown(\n",
    "            options=[50, 100, 200, 300, 1000],\n",
    "            value=self.recent_days,\n",
    "            description=\"\",\n",
    "            disabled=False,\n",
    "        )\n",
    "\n",
    "        controls = widgets.HBox(\n",
    "            [\n",
    "                widgets.VBox(\n",
    "                    [\n",
    "                        widgets.Label(\"Rolling Average Days: \"),\n",
    "                        widgets.Label(\"Recent Number of Days: \"),\n",
    "                    ]\n",
    "                ),\n",
    "                widgets.VBox([int_slider, recent_dropdown]),\n",
    "            ]\n",
    "        )\n",
    "\n",
    "        controls.layout = make_box_layout()\n",
    "        out_box = widgets.Box([output])\n",
    "        output.layout = make_box_layout()\n",
    "\n",
    "        # observe changes\n",
    "        int_slider.observe(self.update_rollout, \"value\")\n",
    "        recent_dropdown.observe(self.update_recent, \"value\")\n",
    "\n",
    "        # add the widgets to the view\n",
    "        self.children = [controls, output]\n",
    "\n",
    "    def update_rollout(self, change):\n",
    "        \"\"\"update the chart with changes in rolling frequency\"\"\"\n",
    "        self.rolling_days = change.new\n",
    "        self.plot_axis()\n",
    "        self.fig.autofmt_xdate()\n",
    "        self.fig.canvas.draw()\n",
    "\n",
    "    def update_recent(self, change):\n",
    "        \"\"\"update recent number of days\"\"\"\n",
    "        self.recent_days = change.new\n",
    "        self.plot_axis()\n",
    "        self.fig.autofmt_xdate()\n",
    "        self.fig.canvas.draw()\n",
    "\n",
    "    def line_color(self, change):\n",
    "        self.line.set_color(change.new)\n",
    "\n",
    "    def plot_axis(self):\n",
    "        self.ax.clear()\n",
    "        self.ax.set_title(\n",
    "            f\"{self.rolling_days}-day rolling average, for the last {self.recent_days} days\"\n",
    "        )\n",
    "        self.ax.set_facecolor(plt.cm.Blues(0.2))\n",
    "        rolling_df = self.df.rolling(self.rolling_days, axis=1).mean()\n",
    "        top_countries = list(rolling_df.iloc[:, -1].sort_values(ascending=False).head(10).index)\n",
    "        for i, country in enumerate(top_countries[:5]):\n",
    "            self.ax.plot(\n",
    "                self.df.columns[-self.recent_days :],\n",
    "                rolling_df.loc[country].tail(self.recent_days),\n",
    "                label=country,\n",
    "                color=plt.cm.tab10(i),\n",
    "            )\n",
    "        self.ax.legend(\n",
    "            bbox_to_anchor=(1, 0.8), loc=\"upper left\", facecolor=plt.cm.Blues(0.1)\n",
    "        )\n",
    "        self.ax.set_xlabel(\"Date\", fontsize=\"large\", fontweight=\"bold\")\n",
    "        self.ax.set_ylabel(\"Number of Deaths\", fontsize=\"large\", fontweight=\"bold\")\n",
    "        self.ax.spines[\"right\"].set_visible(False)\n",
    "        self.ax.spines[\"top\"].set_visible(False)\n",
    "\n",
    "\n",
    "average_deaths(daily_deaths_df)"
   ]
  },
  {
   "cell_type": "markdown",
   "id": "forward-communication",
   "metadata": {},
   "source": [
    "---"
   ]
  }
 ],
 "metadata": {
  "kernelspec": {
   "display_name": "Python 3",
   "language": "python",
   "name": "python3"
  },
  "language_info": {
   "codemirror_mode": {
    "name": "ipython",
    "version": 3
   },
   "file_extension": ".py",
   "mimetype": "text/x-python",
   "name": "python",
   "nbconvert_exporter": "python",
   "pygments_lexer": "ipython3",
   "version": "3.7.10"
  }
 },
 "nbformat": 4,
 "nbformat_minor": 5
}
